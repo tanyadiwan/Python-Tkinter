{
 "cells": [
  {
   "cell_type": "code",
   "execution_count": 7,
   "id": "28a085bc",
   "metadata": {},
   "outputs": [],
   "source": [
    "import pandas as pd\n",
    "import os\n",
    "import plotly.express as px\n",
    "import plotly.offline as pyo"
   ]
  },
  {
   "cell_type": "code",
   "execution_count": 8,
   "id": "38d28d02",
   "metadata": {},
   "outputs": [
    {
     "data": {
      "text/html": [
       "<div>\n",
       "<style scoped>\n",
       "    .dataframe tbody tr th:only-of-type {\n",
       "        vertical-align: middle;\n",
       "    }\n",
       "\n",
       "    .dataframe tbody tr th {\n",
       "        vertical-align: top;\n",
       "    }\n",
       "\n",
       "    .dataframe thead th {\n",
       "        text-align: right;\n",
       "    }\n",
       "</style>\n",
       "<table border=\"1\" class=\"dataframe\">\n",
       "  <thead>\n",
       "    <tr style=\"text-align: right;\">\n",
       "      <th></th>\n",
       "      <th>Country Name</th>\n",
       "      <th>Country Code</th>\n",
       "      <th>Year</th>\n",
       "      <th>Value</th>\n",
       "    </tr>\n",
       "  </thead>\n",
       "  <tbody>\n",
       "    <tr>\n",
       "      <th>0</th>\n",
       "      <td>Arab World</td>\n",
       "      <td>ARB</td>\n",
       "      <td>1968</td>\n",
       "      <td>2.576068e+10</td>\n",
       "    </tr>\n",
       "    <tr>\n",
       "      <th>1</th>\n",
       "      <td>Arab World</td>\n",
       "      <td>ARB</td>\n",
       "      <td>1969</td>\n",
       "      <td>2.843420e+10</td>\n",
       "    </tr>\n",
       "    <tr>\n",
       "      <th>2</th>\n",
       "      <td>Arab World</td>\n",
       "      <td>ARB</td>\n",
       "      <td>1970</td>\n",
       "      <td>3.138550e+10</td>\n",
       "    </tr>\n",
       "    <tr>\n",
       "      <th>3</th>\n",
       "      <td>Arab World</td>\n",
       "      <td>ARB</td>\n",
       "      <td>1971</td>\n",
       "      <td>3.642691e+10</td>\n",
       "    </tr>\n",
       "    <tr>\n",
       "      <th>4</th>\n",
       "      <td>Arab World</td>\n",
       "      <td>ARB</td>\n",
       "      <td>1972</td>\n",
       "      <td>4.331606e+10</td>\n",
       "    </tr>\n",
       "  </tbody>\n",
       "</table>\n",
       "</div>"
      ],
      "text/plain": [
       "  Country Name Country Code  Year         Value\n",
       "0   Arab World          ARB  1968  2.576068e+10\n",
       "1   Arab World          ARB  1969  2.843420e+10\n",
       "2   Arab World          ARB  1970  3.138550e+10\n",
       "3   Arab World          ARB  1971  3.642691e+10\n",
       "4   Arab World          ARB  1972  4.331606e+10"
      ]
     },
     "execution_count": 8,
     "metadata": {},
     "output_type": "execute_result"
    }
   ],
   "source": [
    "df = pd.read_csv('gdp.csv')\n",
    "df.head()"
   ]
  },
  {
   "cell_type": "markdown",
   "id": "19b21cc2",
   "metadata": {},
   "source": [
    "### Check Description of each column"
   ]
  },
  {
   "cell_type": "code",
   "execution_count": 9,
   "id": "35dd1564",
   "metadata": {},
   "outputs": [
    {
     "data": {
      "text/plain": [
       "count                    11507\n",
       "unique                     256\n",
       "top       Hong Kong SAR, China\n",
       "freq                        57\n",
       "Name: Country Name, dtype: object"
      ]
     },
     "execution_count": 9,
     "metadata": {},
     "output_type": "execute_result"
    }
   ],
   "source": [
    "df['Country Name'].describe()"
   ]
  },
  {
   "cell_type": "code",
   "execution_count": 10,
   "id": "66605989",
   "metadata": {},
   "outputs": [
    {
     "data": {
      "text/plain": [
       "count     11507\n",
       "unique      256\n",
       "top         HKG\n",
       "freq         57\n",
       "Name: Country Code, dtype: object"
      ]
     },
     "execution_count": 10,
     "metadata": {},
     "output_type": "execute_result"
    }
   ],
   "source": [
    "df['Country Code'].describe()"
   ]
  },
  {
   "cell_type": "code",
   "execution_count": 11,
   "id": "f37a560b",
   "metadata": {},
   "outputs": [
    {
     "data": {
      "text/plain": [
       "1960"
      ]
     },
     "execution_count": 11,
     "metadata": {},
     "output_type": "execute_result"
    }
   ],
   "source": [
    "df['Year'].min()"
   ]
  },
  {
   "cell_type": "code",
   "execution_count": 12,
   "id": "7ee10ca3",
   "metadata": {},
   "outputs": [
    {
     "data": {
      "text/plain": [
       "2016"
      ]
     },
     "execution_count": 12,
     "metadata": {},
     "output_type": "execute_result"
    }
   ],
   "source": [
    "df['Year'].max()"
   ]
  },
  {
   "cell_type": "markdown",
   "id": "85a1ee5a",
   "metadata": {},
   "source": [
    "### Analysing Arab World"
   ]
  },
  {
   "cell_type": "code",
   "execution_count": 13,
   "id": "14857649",
   "metadata": {},
   "outputs": [
    {
     "data": {
      "text/plain": [
       "<Axes: xlabel='Year'>"
      ]
     },
     "execution_count": 13,
     "metadata": {},
     "output_type": "execute_result"
    },
    {
     "data": {
      "image/png": "[encoded data removed]",
      "text/plain": [
       "<Figure size 640x480 with 1 Axes>"
      ]
     },
     "metadata": {},
     "output_type": "display_data"
    }
   ],
   "source": [
    "df_pr = df[df['Country Name'] == 'Arab World']\n",
    "df_pr.plot(kind = 'line', grid = True, x = 'Year', y = 'Value')"
   ]
  },
  {
   "cell_type": "markdown",
   "id": "8e4137e6",
   "metadata": {},
   "source": [
    "### Finding GDP Growth for a country Arab world"
   ]
  },
  {
   "cell_type": "code",
   "execution_count": 14,
   "id": "fad365c6",
   "metadata": {},
   "outputs": [
    {
     "data": {
      "text/html": [
       "<div>\n",
       "<style scoped>\n",
       "    .dataframe tbody tr th:only-of-type {\n",
       "        vertical-align: middle;\n",
       "    }\n",
       "\n",
       "    .dataframe tbody tr th {\n",
       "        vertical-align: top;\n",
       "    }\n",
       "\n",
       "    .dataframe thead th {\n",
       "        text-align: right;\n",
       "    }\n",
       "</style>\n",
       "<table border=\"1\" class=\"dataframe\">\n",
       "  <thead>\n",
       "    <tr style=\"text-align: right;\">\n",
       "      <th></th>\n",
       "      <th>Country Name</th>\n",
       "      <th>Country Code</th>\n",
       "      <th>Year</th>\n",
       "      <th>Value</th>\n",
       "      <th>GDP_Change</th>\n",
       "    </tr>\n",
       "  </thead>\n",
       "  <tbody>\n",
       "    <tr>\n",
       "      <th>0</th>\n",
       "      <td>Arab World</td>\n",
       "      <td>ARB</td>\n",
       "      <td>1968</td>\n",
       "      <td>2.576068e+10</td>\n",
       "      <td>0.00</td>\n",
       "    </tr>\n",
       "    <tr>\n",
       "      <th>1</th>\n",
       "      <td>Arab World</td>\n",
       "      <td>ARB</td>\n",
       "      <td>1969</td>\n",
       "      <td>2.843420e+10</td>\n",
       "      <td>10.38</td>\n",
       "    </tr>\n",
       "    <tr>\n",
       "      <th>2</th>\n",
       "      <td>Arab World</td>\n",
       "      <td>ARB</td>\n",
       "      <td>1970</td>\n",
       "      <td>3.138550e+10</td>\n",
       "      <td>10.38</td>\n",
       "    </tr>\n",
       "    <tr>\n",
       "      <th>3</th>\n",
       "      <td>Arab World</td>\n",
       "      <td>ARB</td>\n",
       "      <td>1971</td>\n",
       "      <td>3.642691e+10</td>\n",
       "      <td>16.06</td>\n",
       "    </tr>\n",
       "    <tr>\n",
       "      <th>4</th>\n",
       "      <td>Arab World</td>\n",
       "      <td>ARB</td>\n",
       "      <td>1972</td>\n",
       "      <td>4.331606e+10</td>\n",
       "      <td>18.91</td>\n",
       "    </tr>\n",
       "    <tr>\n",
       "      <th>5</th>\n",
       "      <td>Arab World</td>\n",
       "      <td>ARB</td>\n",
       "      <td>1973</td>\n",
       "      <td>5.501839e+10</td>\n",
       "      <td>27.02</td>\n",
       "    </tr>\n",
       "    <tr>\n",
       "      <th>6</th>\n",
       "      <td>Arab World</td>\n",
       "      <td>ARB</td>\n",
       "      <td>1974</td>\n",
       "      <td>1.051458e+11</td>\n",
       "      <td>91.11</td>\n",
       "    </tr>\n",
       "    <tr>\n",
       "      <th>7</th>\n",
       "      <td>Arab World</td>\n",
       "      <td>ARB</td>\n",
       "      <td>1975</td>\n",
       "      <td>1.163370e+11</td>\n",
       "      <td>10.64</td>\n",
       "    </tr>\n",
       "    <tr>\n",
       "      <th>8</th>\n",
       "      <td>Arab World</td>\n",
       "      <td>ARB</td>\n",
       "      <td>1976</td>\n",
       "      <td>1.448462e+11</td>\n",
       "      <td>24.51</td>\n",
       "    </tr>\n",
       "    <tr>\n",
       "      <th>9</th>\n",
       "      <td>Arab World</td>\n",
       "      <td>ARB</td>\n",
       "      <td>1977</td>\n",
       "      <td>1.673083e+11</td>\n",
       "      <td>15.51</td>\n",
       "    </tr>\n",
       "    <tr>\n",
       "      <th>10</th>\n",
       "      <td>Arab World</td>\n",
       "      <td>ARB</td>\n",
       "      <td>1978</td>\n",
       "      <td>1.835555e+11</td>\n",
       "      <td>9.71</td>\n",
       "    </tr>\n",
       "    <tr>\n",
       "      <th>11</th>\n",
       "      <td>Arab World</td>\n",
       "      <td>ARB</td>\n",
       "      <td>1979</td>\n",
       "      <td>2.486462e+11</td>\n",
       "      <td>35.46</td>\n",
       "    </tr>\n",
       "    <tr>\n",
       "      <th>12</th>\n",
       "      <td>Arab World</td>\n",
       "      <td>ARB</td>\n",
       "      <td>1980</td>\n",
       "      <td>3.381775e+11</td>\n",
       "      <td>36.01</td>\n",
       "    </tr>\n",
       "    <tr>\n",
       "      <th>13</th>\n",
       "      <td>Arab World</td>\n",
       "      <td>ARB</td>\n",
       "      <td>1981</td>\n",
       "      <td>3.485928e+11</td>\n",
       "      <td>3.08</td>\n",
       "    </tr>\n",
       "    <tr>\n",
       "      <th>14</th>\n",
       "      <td>Arab World</td>\n",
       "      <td>ARB</td>\n",
       "      <td>1982</td>\n",
       "      <td>3.243288e+11</td>\n",
       "      <td>-6.96</td>\n",
       "    </tr>\n",
       "    <tr>\n",
       "      <th>15</th>\n",
       "      <td>Arab World</td>\n",
       "      <td>ARB</td>\n",
       "      <td>1983</td>\n",
       "      <td>3.039625e+11</td>\n",
       "      <td>-6.28</td>\n",
       "    </tr>\n",
       "    <tr>\n",
       "      <th>16</th>\n",
       "      <td>Arab World</td>\n",
       "      <td>ARB</td>\n",
       "      <td>1984</td>\n",
       "      <td>3.079408e+11</td>\n",
       "      <td>1.31</td>\n",
       "    </tr>\n",
       "    <tr>\n",
       "      <th>17</th>\n",
       "      <td>Arab World</td>\n",
       "      <td>ARB</td>\n",
       "      <td>1985</td>\n",
       "      <td>3.038936e+11</td>\n",
       "      <td>-1.31</td>\n",
       "    </tr>\n",
       "    <tr>\n",
       "      <th>18</th>\n",
       "      <td>Arab World</td>\n",
       "      <td>ARB</td>\n",
       "      <td>1986</td>\n",
       "      <td>2.890292e+11</td>\n",
       "      <td>-4.89</td>\n",
       "    </tr>\n",
       "    <tr>\n",
       "      <th>19</th>\n",
       "      <td>Arab World</td>\n",
       "      <td>ARB</td>\n",
       "      <td>1987</td>\n",
       "      <td>3.126817e+11</td>\n",
       "      <td>8.18</td>\n",
       "    </tr>\n",
       "    <tr>\n",
       "      <th>20</th>\n",
       "      <td>Arab World</td>\n",
       "      <td>ARB</td>\n",
       "      <td>1988</td>\n",
       "      <td>3.075030e+11</td>\n",
       "      <td>-1.66</td>\n",
       "    </tr>\n",
       "    <tr>\n",
       "      <th>21</th>\n",
       "      <td>Arab World</td>\n",
       "      <td>ARB</td>\n",
       "      <td>1989</td>\n",
       "      <td>3.223251e+11</td>\n",
       "      <td>4.82</td>\n",
       "    </tr>\n",
       "    <tr>\n",
       "      <th>22</th>\n",
       "      <td>Arab World</td>\n",
       "      <td>ARB</td>\n",
       "      <td>1990</td>\n",
       "      <td>4.468772e+11</td>\n",
       "      <td>38.64</td>\n",
       "    </tr>\n",
       "    <tr>\n",
       "      <th>23</th>\n",
       "      <td>Arab World</td>\n",
       "      <td>ARB</td>\n",
       "      <td>1991</td>\n",
       "      <td>4.397792e+11</td>\n",
       "      <td>-1.59</td>\n",
       "    </tr>\n",
       "    <tr>\n",
       "      <th>24</th>\n",
       "      <td>Arab World</td>\n",
       "      <td>ARB</td>\n",
       "      <td>1992</td>\n",
       "      <td>4.711635e+11</td>\n",
       "      <td>7.14</td>\n",
       "    </tr>\n",
       "    <tr>\n",
       "      <th>25</th>\n",
       "      <td>Arab World</td>\n",
       "      <td>ARB</td>\n",
       "      <td>1993</td>\n",
       "      <td>4.765136e+11</td>\n",
       "      <td>1.14</td>\n",
       "    </tr>\n",
       "    <tr>\n",
       "      <th>26</th>\n",
       "      <td>Arab World</td>\n",
       "      <td>ARB</td>\n",
       "      <td>1994</td>\n",
       "      <td>4.875269e+11</td>\n",
       "      <td>2.31</td>\n",
       "    </tr>\n",
       "    <tr>\n",
       "      <th>27</th>\n",
       "      <td>Arab World</td>\n",
       "      <td>ARB</td>\n",
       "      <td>1995</td>\n",
       "      <td>5.237599e+11</td>\n",
       "      <td>7.43</td>\n",
       "    </tr>\n",
       "    <tr>\n",
       "      <th>28</th>\n",
       "      <td>Arab World</td>\n",
       "      <td>ARB</td>\n",
       "      <td>1996</td>\n",
       "      <td>5.782313e+11</td>\n",
       "      <td>10.40</td>\n",
       "    </tr>\n",
       "    <tr>\n",
       "      <th>29</th>\n",
       "      <td>Arab World</td>\n",
       "      <td>ARB</td>\n",
       "      <td>1997</td>\n",
       "      <td>6.132795e+11</td>\n",
       "      <td>6.06</td>\n",
       "    </tr>\n",
       "    <tr>\n",
       "      <th>30</th>\n",
       "      <td>Arab World</td>\n",
       "      <td>ARB</td>\n",
       "      <td>1998</td>\n",
       "      <td>5.915256e+11</td>\n",
       "      <td>-3.55</td>\n",
       "    </tr>\n",
       "    <tr>\n",
       "      <th>31</th>\n",
       "      <td>Arab World</td>\n",
       "      <td>ARB</td>\n",
       "      <td>1999</td>\n",
       "      <td>6.438897e+11</td>\n",
       "      <td>8.85</td>\n",
       "    </tr>\n",
       "    <tr>\n",
       "      <th>32</th>\n",
       "      <td>Arab World</td>\n",
       "      <td>ARB</td>\n",
       "      <td>2000</td>\n",
       "      <td>7.350251e+11</td>\n",
       "      <td>14.15</td>\n",
       "    </tr>\n",
       "    <tr>\n",
       "      <th>33</th>\n",
       "      <td>Arab World</td>\n",
       "      <td>ARB</td>\n",
       "      <td>2001</td>\n",
       "      <td>7.232828e+11</td>\n",
       "      <td>-1.60</td>\n",
       "    </tr>\n",
       "    <tr>\n",
       "      <th>34</th>\n",
       "      <td>Arab World</td>\n",
       "      <td>ARB</td>\n",
       "      <td>2002</td>\n",
       "      <td>7.290517e+11</td>\n",
       "      <td>0.80</td>\n",
       "    </tr>\n",
       "    <tr>\n",
       "      <th>35</th>\n",
       "      <td>Arab World</td>\n",
       "      <td>ARB</td>\n",
       "      <td>2003</td>\n",
       "      <td>8.231105e+11</td>\n",
       "      <td>12.90</td>\n",
       "    </tr>\n",
       "    <tr>\n",
       "      <th>36</th>\n",
       "      <td>Arab World</td>\n",
       "      <td>ARB</td>\n",
       "      <td>2004</td>\n",
       "      <td>9.638623e+11</td>\n",
       "      <td>17.10</td>\n",
       "    </tr>\n",
       "    <tr>\n",
       "      <th>37</th>\n",
       "      <td>Arab World</td>\n",
       "      <td>ARB</td>\n",
       "      <td>2005</td>\n",
       "      <td>1.184662e+12</td>\n",
       "      <td>22.91</td>\n",
       "    </tr>\n",
       "    <tr>\n",
       "      <th>38</th>\n",
       "      <td>Arab World</td>\n",
       "      <td>ARB</td>\n",
       "      <td>2006</td>\n",
       "      <td>1.404114e+12</td>\n",
       "      <td>18.52</td>\n",
       "    </tr>\n",
       "    <tr>\n",
       "      <th>39</th>\n",
       "      <td>Arab World</td>\n",
       "      <td>ARB</td>\n",
       "      <td>2007</td>\n",
       "      <td>1.637573e+12</td>\n",
       "      <td>16.63</td>\n",
       "    </tr>\n",
       "    <tr>\n",
       "      <th>40</th>\n",
       "      <td>Arab World</td>\n",
       "      <td>ARB</td>\n",
       "      <td>2008</td>\n",
       "      <td>2.078116e+12</td>\n",
       "      <td>26.90</td>\n",
       "    </tr>\n",
       "    <tr>\n",
       "      <th>41</th>\n",
       "      <td>Arab World</td>\n",
       "      <td>ARB</td>\n",
       "      <td>2009</td>\n",
       "      <td>1.795820e+12</td>\n",
       "      <td>-13.58</td>\n",
       "    </tr>\n",
       "    <tr>\n",
       "      <th>42</th>\n",
       "      <td>Arab World</td>\n",
       "      <td>ARB</td>\n",
       "      <td>2010</td>\n",
       "      <td>2.109646e+12</td>\n",
       "      <td>17.48</td>\n",
       "    </tr>\n",
       "    <tr>\n",
       "      <th>43</th>\n",
       "      <td>Arab World</td>\n",
       "      <td>ARB</td>\n",
       "      <td>2011</td>\n",
       "      <td>2.501554e+12</td>\n",
       "      <td>18.58</td>\n",
       "    </tr>\n",
       "    <tr>\n",
       "      <th>44</th>\n",
       "      <td>Arab World</td>\n",
       "      <td>ARB</td>\n",
       "      <td>2012</td>\n",
       "      <td>2.741239e+12</td>\n",
       "      <td>9.58</td>\n",
       "    </tr>\n",
       "    <tr>\n",
       "      <th>45</th>\n",
       "      <td>Arab World</td>\n",
       "      <td>ARB</td>\n",
       "      <td>2013</td>\n",
       "      <td>2.839627e+12</td>\n",
       "      <td>3.59</td>\n",
       "    </tr>\n",
       "    <tr>\n",
       "      <th>46</th>\n",
       "      <td>Arab World</td>\n",
       "      <td>ARB</td>\n",
       "      <td>2014</td>\n",
       "      <td>2.906616e+12</td>\n",
       "      <td>2.36</td>\n",
       "    </tr>\n",
       "    <tr>\n",
       "      <th>47</th>\n",
       "      <td>Arab World</td>\n",
       "      <td>ARB</td>\n",
       "      <td>2015</td>\n",
       "      <td>2.563302e+12</td>\n",
       "      <td>-11.81</td>\n",
       "    </tr>\n",
       "    <tr>\n",
       "      <th>48</th>\n",
       "      <td>Arab World</td>\n",
       "      <td>ARB</td>\n",
       "      <td>2016</td>\n",
       "      <td>2.504703e+12</td>\n",
       "      <td>-2.29</td>\n",
       "    </tr>\n",
       "  </tbody>\n",
       "</table>\n",
       "</div>"
      ],
      "text/plain": [
       "   Country Name Country Code  Year         Value  GDP_Change\n",
       "0    Arab World          ARB  1968  2.576068e+10        0.00\n",
       "1    Arab World          ARB  1969  2.843420e+10       10.38\n",
       "2    Arab World          ARB  1970  3.138550e+10       10.38\n",
       "3    Arab World          ARB  1971  3.642691e+10       16.06\n",
       "4    Arab World          ARB  1972  4.331606e+10       18.91\n",
       "5    Arab World          ARB  1973  5.501839e+10       27.02\n",
       "6    Arab World          ARB  1974  1.051458e+11       91.11\n",
       "7    Arab World          ARB  1975  1.163370e+11       10.64\n",
       "8    Arab World          ARB  1976  1.448462e+11       24.51\n",
       "9    Arab World          ARB  1977  1.673083e+11       15.51\n",
       "10   Arab World          ARB  1978  1.835555e+11        9.71\n",
       "11   Arab World          ARB  1979  2.486462e+11       35.46\n",
       "12   Arab World          ARB  1980  3.381775e+11       36.01\n",
       "13   Arab World          ARB  1981  3.485928e+11        3.08\n",
       "14   Arab World          ARB  1982  3.243288e+11       -6.96\n",
       "15   Arab World          ARB  1983  3.039625e+11       -6.28\n",
       "16   Arab World          ARB  1984  3.079408e+11        1.31\n",
       "17   Arab World          ARB  1985  3.038936e+11       -1.31\n",
       "18   Arab World          ARB  1986  2.890292e+11       -4.89\n",
       "19   Arab World          ARB  1987  3.126817e+11        8.18\n",
       "20   Arab World          ARB  1988  3.075030e+11       -1.66\n",
       "21   Arab World          ARB  1989  3.223251e+11        4.82\n",
       "22   Arab World          ARB  1990  4.468772e+11       38.64\n",
       "23   Arab World          ARB  1991  4.397792e+11       -1.59\n",
       "24   Arab World          ARB  1992  4.711635e+11        7.14\n",
       "25   Arab World          ARB  1993  4.765136e+11        1.14\n",
       "26   Arab World          ARB  1994  4.875269e+11        2.31\n",
       "27   Arab World          ARB  1995  5.237599e+11        7.43\n",
       "28   Arab World          ARB  1996  5.782313e+11       10.40\n",
       "29   Arab World          ARB  1997  6.132795e+11        6.06\n",
       "30   Arab World          ARB  1998  5.915256e+11       -3.55\n",
       "31   Arab World          ARB  1999  6.438897e+11        8.85\n",
       "32   Arab World          ARB  2000  7.350251e+11       14.15\n",
       "33   Arab World          ARB  2001  7.232828e+11       -1.60\n",
       "34   Arab World          ARB  2002  7.290517e+11        0.80\n",
       "35   Arab World          ARB  2003  8.231105e+11       12.90\n",
       "36   Arab World          ARB  2004  9.638623e+11       17.10\n",
       "37   Arab World          ARB  2005  1.184662e+12       22.91\n",
       "38   Arab World          ARB  2006  1.404114e+12       18.52\n",
       "39   Arab World          ARB  2007  1.637573e+12       16.63\n",
       "40   Arab World          ARB  2008  2.078116e+12       26.90\n",
       "41   Arab World          ARB  2009  1.795820e+12      -13.58\n",
       "42   Arab World          ARB  2010  2.109646e+12       17.48\n",
       "43   Arab World          ARB  2011  2.501554e+12       18.58\n",
       "44   Arab World          ARB  2012  2.741239e+12        9.58\n",
       "45   Arab World          ARB  2013  2.839627e+12        3.59\n",
       "46   Arab World          ARB  2014  2.906616e+12        2.36\n",
       "47   Arab World          ARB  2015  2.563302e+12      -11.81\n",
       "48   Arab World          ARB  2016  2.504703e+12       -2.29"
      ]
     },
     "execution_count": 14,
     "metadata": {},
     "output_type": "execute_result"
    }
   ],
   "source": [
    "df_pr = df[df['Country Name'] == 'Arab World']\n",
    "\n",
    "data = df_pr.values\n",
    "\n",
    "gdp_change = [0]\n",
    "\n",
    "for i in range(1, len(data)):\n",
    "    prev = data[i-1][3]\n",
    "    curr = data[i][3]\n",
    "    per = round(((curr-prev)/prev)* 100, 2)\n",
    "    gdp_change.append(per)\n",
    "df_pr.assign(GDP_Change = gdp_change)"
   ]
  },
  {
   "cell_type": "markdown",
   "id": "533d99bd",
   "metadata": {},
   "source": [
    "### Finding GDP Growth of every country"
   ]
  },
  {
   "cell_type": "code",
   "execution_count": 15,
   "id": "9bae6744",
   "metadata": {},
   "outputs": [],
   "source": [
    "final_gdp = []\n",
    "for country in df['Country Name'].unique():\n",
    "    df_pr = df[df['Country Name'] == country]\n",
    "    \n",
    "    data = df_pr.values\n",
    "\n",
    "    gdp_change = [0]\n",
    "\n",
    "    for i in range(1, len(data)):\n",
    "        prev = data[i-1][3]\n",
    "        curr = data[i][3]\n",
    "        per = round(((curr-prev)/prev)* 100, 2)\n",
    "        gdp_change.append(per)\n",
    "    df_pr = df_pr.assign(GDP_Change = gdp_change)\n",
    "    final_gdp.append(df_pr)\n",
    "df = pd.concat(final_gdp, axis = 0)"
   ]
  },
  {
   "cell_type": "code",
   "execution_count": 16,
   "id": "1b78ebbf",
   "metadata": {},
   "outputs": [
    {
     "data": {
      "text/plain": [
       "Country Name\n",
       "World                        7.904923e+13\n",
       "High income                  5.036240e+13\n",
       "OECD members                 4.937008e+13\n",
       "Post-demographic dividend    4.673504e+13\n",
       "IDA & IBRD total             2.948247e+13\n",
       "                                 ...     \n",
       "Palau                        3.102483e+08\n",
       "Marshall Islands             1.944979e+08\n",
       "Kiribati                     1.880457e+08\n",
       "Nauru                        1.170204e+08\n",
       "Tuvalu                       3.987575e+07\n",
       "Name: Value, Length: 256, dtype: float64"
      ]
     },
     "execution_count": 16,
     "metadata": {},
     "output_type": "execute_result"
    }
   ],
   "source": [
    "df.groupby('Country Name')['Value'].max().sort_values(ascending = False)"
   ]
  },
  {
   "cell_type": "code",
   "execution_count": 17,
   "id": "23f3d5b3",
   "metadata": {},
   "outputs": [
    {
     "data": {
      "text/plain": [
       "Country Name\n",
       "World                                                   1.366678e+12\n",
       "OECD members                                            1.071152e+12\n",
       "High income                                             1.060258e+12\n",
       "Post-demographic dividend                               1.044695e+12\n",
       "Europe & Central Asia (IDA & IBRD countries)            8.202138e+11\n",
       "Europe & Central Asia (excluding high income)           6.504501e+11\n",
       "North America                                           5.844779e+11\n",
       "United States                                           5.433000e+11\n",
       "Europe & Central Asia                                   4.328084e+11\n",
       "European Union                                          3.589415e+11\n",
       "IDA & IBRD total                                        3.219602e+11\n",
       "Low & middle income                                     3.126133e+11\n",
       "Middle income                                           2.986484e+11\n",
       "Middle East & North Africa (excluding high income)      2.915414e+11\n",
       "Middle East & North Africa (IDA & IBRD countries)       2.887383e+11\n",
       "IBRD only                                               2.817841e+11\n",
       "Euro area                                               2.453819e+11\n",
       "Central Europe and the Baltics                          2.428449e+11\n",
       "Germany                                                 2.150218e+11\n",
       "Upper middle income                                     1.981617e+11\n",
       "Russian Federation                                      1.959058e+11\n",
       "Fragile and conflict affected situations                1.940319e+11\n",
       "Late-demographic dividend                               1.578967e+11\n",
       "East Asia & Pacific                                     1.536120e+11\n",
       "Early-demographic dividend                              1.523785e+11\n",
       "IDA only                                                1.443003e+11\n",
       "Lower middle income                                     1.244119e+11\n",
       "Least developed countries: UN classification            1.208885e+11\n",
       "Latin America & Caribbean                               8.123181e+10\n",
       "Latin America & the Caribbean (IDA & IBRD countries)    7.634005e+10\n",
       "Latin America & Caribbean (excluding high income)       7.325727e+10\n",
       "United Kingdom                                          7.232805e+10\n",
       "Low income                                              6.868805e+10\n",
       "Poland                                                  6.597775e+10\n",
       "East Asia & Pacific (excluding high income)             6.476951e+10\n",
       "East Asia & Pacific (IDA & IBRD countries)              6.463808e+10\n",
       "France                                                  6.265147e+10\n",
       "China                                                   4.720936e+10\n",
       "South Asia                                              4.653588e+10\n",
       "South Asia (IDA & IBRD)                                 4.653588e+10\n",
       "Japan                                                   4.430734e+10\n",
       "Canada                                                  4.076797e+10\n",
       "Italy                                                   4.038529e+10\n",
       "IDA total                                               3.855284e+10\n",
       "India                                                   3.653593e+10\n",
       "Hungary                                                 3.474851e+10\n",
       "Middle East & North Africa                              3.259850e+10\n",
       "Ukraine                                                 3.126153e+10\n",
       "Sub-Saharan Africa                                      3.029345e+10\n",
       "Sub-Saharan Africa (IDA & IBRD countries)               3.029345e+10\n",
       "Name: Value, dtype: float64"
      ]
     },
     "execution_count": 17,
     "metadata": {},
     "output_type": "execute_result"
    }
   ],
   "source": [
    "df.groupby('Country Name')['Value'].min().sort_values(ascending = False).head(50)"
   ]
  },
  {
   "cell_type": "markdown",
   "id": "f0a25916",
   "metadata": {},
   "source": [
    "### Worlds GDP Analysis"
   ]
  },
  {
   "cell_type": "code",
   "execution_count": 18,
   "id": "2225af5e",
   "metadata": {},
   "outputs": [
    {
     "data": {
      "text/plain": [
       "'World GDP.html'"
      ]
     },
     "execution_count": 18,
     "metadata": {},
     "output_type": "execute_result"
    }
   ],
   "source": [
    "df_pr = df[df['Country Name'] == 'World']\n",
    "fig = px.line(df_pr, x = 'Year', y = 'Value', title = 'Worlds GDP Analysis')\n",
    "pyo.plot(fig, filename = 'World GDP.html')"
   ]
  },
  {
   "cell_type": "code",
   "execution_count": 19,
   "id": "8bec7690",
   "metadata": {},
   "outputs": [
    {
     "data": {
      "text/plain": [
       "'India GDP.html'"
      ]
     },
     "execution_count": 19,
     "metadata": {},
     "output_type": "execute_result"
    }
   ],
   "source": [
    "df_pr = df[df['Country Name'] == 'India']\n",
    "fig = px.line(df_pr, x = 'Year', y = 'Value', title = 'Indian GDP Analysis')\n",
    "pyo.plot(fig, filename = 'India GDP.html')"
   ]
  },
  {
   "cell_type": "markdown",
   "id": "97adb415",
   "metadata": {},
   "source": [
    "### GDP Analysis graph of each country"
   ]
  },
  {
   "cell_type": "code",
   "execution_count": 23,
   "id": "8e5a4684",
   "metadata": {},
   "outputs": [],
   "source": [
    "os.mkdir('GDP Graphs2')\n",
    "\n",
    "for country_name in df['Country Name'].unique():\n",
    "    df_pr = df[df['Country Name'] == country_name]\n",
    "    fig = px.line(df_pr, x = 'Year', y = 'Value', title = country_name + 'GDP Analysis')\n",
    "    pyo.plot(fig, filename = 'GDP Graphs2/' + country_name + 'GDP.html', auto_open = False)"
   ]
  },
  {
   "cell_type": "markdown",
   "id": "af292d98",
   "metadata": {},
   "source": [
    "### Comparing GDP across a countries"
   ]
  },
  {
   "cell_type": "code",
   "execution_count": 24,
   "id": "6cc1dd3d",
   "metadata": {},
   "outputs": [
    {
     "data": {
      "text/plain": [
       "'World.html'"
      ]
     },
     "execution_count": 24,
     "metadata": {},
     "output_type": "execute_result"
    }
   ],
   "source": [
    "fig = px.line(df, x = 'Year', y = 'Value', title = 'GDP across the countries', color = 'Country Name')\n",
    "pyo.plot(fig, filename = 'World.html')"
   ]
  },
  {
   "cell_type": "markdown",
   "id": "be831bcf",
   "metadata": {},
   "source": [
    "### Comparing GDP of two countries"
   ]
  },
  {
   "cell_type": "code",
   "execution_count": 25,
   "id": "742c41c7",
   "metadata": {},
   "outputs": [
    {
     "data": {
      "text/html": [
       "<div>\n",
       "<style scoped>\n",
       "    .dataframe tbody tr th:only-of-type {\n",
       "        vertical-align: middle;\n",
       "    }\n",
       "\n",
       "    .dataframe tbody tr th {\n",
       "        vertical-align: top;\n",
       "    }\n",
       "\n",
       "    .dataframe thead th {\n",
       "        text-align: right;\n",
       "    }\n",
       "</style>\n",
       "<table border=\"1\" class=\"dataframe\">\n",
       "  <thead>\n",
       "    <tr style=\"text-align: right;\">\n",
       "      <th></th>\n",
       "      <th>Country Name</th>\n",
       "      <th>Country Code</th>\n",
       "      <th>Year</th>\n",
       "      <th>Value</th>\n",
       "      <th>GDP_Change</th>\n",
       "    </tr>\n",
       "  </thead>\n",
       "  <tbody>\n",
       "    <tr>\n",
       "      <th>6074</th>\n",
       "      <td>India</td>\n",
       "      <td>IND</td>\n",
       "      <td>1960</td>\n",
       "      <td>3.653593e+10</td>\n",
       "      <td>0.00</td>\n",
       "    </tr>\n",
       "    <tr>\n",
       "      <th>6075</th>\n",
       "      <td>India</td>\n",
       "      <td>IND</td>\n",
       "      <td>1961</td>\n",
       "      <td>3.870910e+10</td>\n",
       "      <td>5.95</td>\n",
       "    </tr>\n",
       "    <tr>\n",
       "      <th>6076</th>\n",
       "      <td>India</td>\n",
       "      <td>IND</td>\n",
       "      <td>1962</td>\n",
       "      <td>4.159907e+10</td>\n",
       "      <td>7.47</td>\n",
       "    </tr>\n",
       "    <tr>\n",
       "      <th>6077</th>\n",
       "      <td>India</td>\n",
       "      <td>IND</td>\n",
       "      <td>1963</td>\n",
       "      <td>4.777600e+10</td>\n",
       "      <td>14.85</td>\n",
       "    </tr>\n",
       "    <tr>\n",
       "      <th>6078</th>\n",
       "      <td>India</td>\n",
       "      <td>IND</td>\n",
       "      <td>1964</td>\n",
       "      <td>5.572687e+10</td>\n",
       "      <td>16.64</td>\n",
       "    </tr>\n",
       "    <tr>\n",
       "      <th>...</th>\n",
       "      <td>...</td>\n",
       "      <td>...</td>\n",
       "      <td>...</td>\n",
       "      <td>...</td>\n",
       "      <td>...</td>\n",
       "    </tr>\n",
       "    <tr>\n",
       "      <th>4098</th>\n",
       "      <td>China</td>\n",
       "      <td>CHN</td>\n",
       "      <td>2012</td>\n",
       "      <td>8.560547e+12</td>\n",
       "      <td>13.05</td>\n",
       "    </tr>\n",
       "    <tr>\n",
       "      <th>4099</th>\n",
       "      <td>China</td>\n",
       "      <td>CHN</td>\n",
       "      <td>2013</td>\n",
       "      <td>9.607224e+12</td>\n",
       "      <td>12.23</td>\n",
       "    </tr>\n",
       "    <tr>\n",
       "      <th>4100</th>\n",
       "      <td>China</td>\n",
       "      <td>CHN</td>\n",
       "      <td>2014</td>\n",
       "      <td>1.048237e+13</td>\n",
       "      <td>9.11</td>\n",
       "    </tr>\n",
       "    <tr>\n",
       "      <th>4101</th>\n",
       "      <td>China</td>\n",
       "      <td>CHN</td>\n",
       "      <td>2015</td>\n",
       "      <td>1.106467e+13</td>\n",
       "      <td>5.55</td>\n",
       "    </tr>\n",
       "    <tr>\n",
       "      <th>4102</th>\n",
       "      <td>China</td>\n",
       "      <td>CHN</td>\n",
       "      <td>2016</td>\n",
       "      <td>1.119915e+13</td>\n",
       "      <td>1.22</td>\n",
       "    </tr>\n",
       "  </tbody>\n",
       "</table>\n",
       "<p>114 rows × 5 columns</p>\n",
       "</div>"
      ],
      "text/plain": [
       "     Country Name Country Code  Year         Value  GDP_Change\n",
       "6074        India          IND  1960  3.653593e+10        0.00\n",
       "6075        India          IND  1961  3.870910e+10        5.95\n",
       "6076        India          IND  1962  4.159907e+10        7.47\n",
       "6077        India          IND  1963  4.777600e+10       14.85\n",
       "6078        India          IND  1964  5.572687e+10       16.64\n",
       "...           ...          ...   ...           ...         ...\n",
       "4098        China          CHN  2012  8.560547e+12       13.05\n",
       "4099        China          CHN  2013  9.607224e+12       12.23\n",
       "4100        China          CHN  2014  1.048237e+13        9.11\n",
       "4101        China          CHN  2015  1.106467e+13        5.55\n",
       "4102        China          CHN  2016  1.119915e+13        1.22\n",
       "\n",
       "[114 rows x 5 columns]"
      ]
     },
     "execution_count": 25,
     "metadata": {},
     "output_type": "execute_result"
    }
   ],
   "source": [
    "c1 = df[df['Country Name'] == 'India']\n",
    "c2 = df[df['Country Name'] == 'China']\n",
    "df_pr = pd.concat([c1, c2], axis = 0)\n",
    "df_pr"
   ]
  },
  {
   "cell_type": "code",
   "execution_count": 26,
   "id": "bdd33275",
   "metadata": {},
   "outputs": [
    {
     "data": {
      "text/plain": [
       "'India_China.html'"
      ]
     },
     "execution_count": 26,
     "metadata": {},
     "output_type": "execute_result"
    }
   ],
   "source": [
    "fig = px.line(df_pr, x = 'Year', y = 'Value', title = 'GDP comparison of India and China', color = 'Country Name')\n",
    "pyo.plot(fig, filename = 'India_China.html')"
   ]
  },
  {
   "cell_type": "markdown",
   "id": "345116fd",
   "metadata": {},
   "source": [
    "### Comparing GDp of more than 2 countries"
   ]
  },
  {
   "cell_type": "code",
   "execution_count": 27,
   "id": "391ff53e",
   "metadata": {},
   "outputs": [],
   "source": [
    "lst = ['ITA', 'IND', 'USA', 'CHN']\n",
    "dfs = []\n",
    "for i in lst:\n",
    "    dfs.append(df[df['Country Code'] == i])\n",
    "df_pr = pd.concat(dfs, axis = 0)\n"
   ]
  },
  {
   "cell_type": "code",
   "execution_count": 28,
   "id": "ccb0aba6",
   "metadata": {},
   "outputs": [
    {
     "data": {
      "text/plain": [
       "'ITA_IND_USA_CHN.html'"
      ]
     },
     "execution_count": 28,
     "metadata": {},
     "output_type": "execute_result"
    }
   ],
   "source": [
    "fig = px.line(df_pr, x = 'Year', y = 'Value', title = 'GDP comparison -' + '|'.join(lst), color = 'Country Name')\n",
    "pyo.plot(fig, filename = '_'.join(lst) +'.html')"
   ]
  },
  {
   "cell_type": "markdown",
   "id": "a1f51230",
   "metadata": {},
   "source": [
    "### Function for Comapring GDP of Countries"
   ]
  },
  {
   "cell_type": "code",
   "execution_count": 29,
   "id": "680677a4",
   "metadata": {},
   "outputs": [],
   "source": [
    "def com_GDP(lst):\n",
    "    dfs = []\n",
    "    for i in lst:\n",
    "        dfs.append(df[df['Country Code'] == i])\n",
    "    df_pr = pd.concat(dfs, axis = 0)\n",
    "    fig = px.line(df_pr, x = 'Year', y = 'Value', title = 'GDP comparison -' + '|'.join(lst), color = 'Country Name')\n",
    "    pyo.plot(fig, filename = '_'.join(lst) +'.html')"
   ]
  },
  {
   "cell_type": "code",
   "execution_count": 30,
   "id": "d1234c12",
   "metadata": {},
   "outputs": [],
   "source": [
    "com_GDP(['IND', 'USA'])"
   ]
  },
  {
   "cell_type": "markdown",
   "id": "42089b2f",
   "metadata": {},
   "source": [
    "### GDP Growth of all countries from 1960-2016"
   ]
  },
  {
   "cell_type": "code",
   "execution_count": 31,
   "id": "5adef913",
   "metadata": {},
   "outputs": [
    {
     "data": {
      "text/plain": [
       "'GDP_Growth.html'"
      ]
     },
     "execution_count": 31,
     "metadata": {},
     "output_type": "execute_result"
    }
   ],
   "source": [
    "dfs = []\n",
    "for i in df['Country Name'].unique():\n",
    "    df_pr = df[df['Country Name'] == i]\n",
    "    \n",
    "    if len(df_pr) == 57:\n",
    "        dfs.append(df_pr)\n",
    "df_pr = pd.concat(dfs, axis = 0)\n",
    "\n",
    "fig = px.line(df_pr, x = 'Year', y = 'GDP_Change', title = 'GDP Growth', color = 'Country Name')\n",
    "pyo.plot(fig, filename =  'GDP_Growth.html')"
   ]
  },
  {
   "cell_type": "code",
   "execution_count": null,
   "id": "9ac27b48",
   "metadata": {},
   "outputs": [],
   "source": []
  }
 ],
 "metadata": {
  "kernelspec": {
   "display_name": "Python 3 (ipykernel)",
   "language": "python",
   "name": "python3"
  },
  "language_info": {
   "codemirror_mode": {
    "name": "ipython",
    "version": 3
   },
   "file_extension": ".py",
   "mimetype": "text/x-python",
   "name": "python",
   "nbconvert_exporter": "python",
   "pygments_lexer": "ipython3",
   "version": "3.10.9"
  }
 },
 "nbformat": 4,
 "nbformat_minor": 5
}
